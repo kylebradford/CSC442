{
 "cells": [
  {
   "cell_type": "markdown",
   "metadata": {},
   "source": [
    "The code below takes the folder of stock indices and converts the entire folder of txt files to a single csv.\n",
    "Proper file location will need to be adjusted for individual use"
   ]
  },
  {
   "cell_type": "code",
   "execution_count": null,
   "metadata": {},
   "outputs": [
    {
     "name": "stdout",
     "output_type": "stream",
     "text": [
      "Merged CSV saved as: c:\\Users\\kjbsh\\Documents\\stockData.csv\n"
     ]
    }
   ],
   "source": [
    "import os\n",
    "import pandas as pd \n",
    "\n",
    "# Define the folder path containing the .txt files and the output CSV file\n",
    "FOLDER_PATH = r\"C:\\Users\\kjbsh\\Documents\\d_world_txt\\data\\daily\\world\\stooq stocks indices\"  # Change this to your folder location\n",
    "OUTPUT_FILE = r\"c:\\Users\\kjbsh\\Documents\\stockData.csv\"  # Change the output file name if needed\n",
    "\n",
    "def merge_txt_to_csv(folder_path, output_file):\n",
    "    all_files = [f for f in os.listdir(folder_path) if f.endswith('.txt')]\n",
    "    merged_data = []\n",
    "\n",
    "    if not all_files:\n",
    "        print(\"No text files found in the folder.\")\n",
    "        return\n",
    "\n",
    "    for file in all_files:\n",
    "        file_path = os.path.join(folder_path, file)\n",
    "        try:\n",
    "            # Read the file into a DataFrame\n",
    "            df = pd.read_csv(file_path, delimiter=',', header=0)  # Adjust delimiter if needed\n",
    "            df['Source'] = file  # Add a column to track source file name\n",
    "            merged_data.append(df)\n",
    "        except Exception as e:\n",
    "            print(f\"Error reading {file}: {e}\")\n",
    "\n",
    "    if merged_data:\n",
    "        final_df = pd.concat(merged_data, ignore_index=True)\n",
    "        final_df.to_csv(output_file, index=False)\n",
    "        print(f\"Merged CSV saved as: {output_file}\")\n",
    "    else:\n",
    "        print(\"No valid data to merge.\")\n",
    "\n",
    "# Run the function\n",
    "merge_txt_to_csv(FOLDER_PATH, OUTPUT_FILE)\n"
   ]
  },
  {
   "cell_type": "markdown",
   "metadata": {},
   "source": [
    "Below is code that takes the raw econ data and filters out all the countries where we do not have matching stock market data\n",
    "The stock indices used in our data set: \n",
    "_^de → Germany (likely DAX or XETRA)\n",
    "_^hk → Hong Kong (Hang Seng Index - HSI)\n",
    "_^hu → Hungary (Budapest Stock Exchange - BUX)\n",
    "_^jp → Japan (Nikkei 225 or TOPIX)\n",
    "_^pl → Poland (Warsaw Stock Exchange - WIG20)\n",
    "_^pl20 → Likely WIG20 (Warsaw Stock Exchange)\n",
    "_^plnc → Possibly mWIG40 or sWIG80, but unclear\n",
    "_^plws → Could be related to Polish stock market indices\n",
    "_^uk → United Kingdom (FTSE 100)\n",
    "_^us → United States (S&P 500, Dow Jones, NASDAQ)\n",
    "_^usnm → Possibly NASDAQ Mid Cap stocks\n",
    "_^usnq → Likely NASDAQ Composite\n",
    "_^usns → Possibly NASDAQ Small Cap stocks\n",
    "\n",
    "So all other countries in the econ csv that are not in this list should be deleted\n",
    "\n",
    "The column names, and it seems like all the econ data is formatted in a weird way with leading and trailing white space, so we must truncate that first."
   ]
  },
  {
   "cell_type": "code",
   "execution_count": 11,
   "metadata": {},
   "outputs": [
    {
     "name": "stdout",
     "output_type": "stream",
     "text": [
      "Index(['CountryID', 'Country', 'Year', 'AMA exchange rate',\n",
      "       'IMF based exchange rate', 'Population', 'Currency', 'Per capita GNI',\n",
      "       'Agriculture, hunting, forestry, fishing (ISIC A-B)',\n",
      "       'Changes in inventories', 'Construction (ISIC F)',\n",
      "       'Exports of goods and services', 'Final consumption expenditure',\n",
      "       'General government final consumption expenditure',\n",
      "       'Gross capital formation',\n",
      "       'Gross fixed capital formation (including Acquisitions less disposals of valuables)',\n",
      "       'Household consumption expenditure (including Non-profit institutions serving households)',\n",
      "       'Imports of goods and services', 'Manufacturing (ISIC D)',\n",
      "       'Mining, Manufacturing, Utilities (ISIC C-E)',\n",
      "       'Other Activities (ISIC J-P)', 'Total Value Added',\n",
      "       'Transport, storage and communication (ISIC I)',\n",
      "       'Wholesale, retail trade, restaurants and hotels (ISIC G-H)',\n",
      "       'Gross National Income(GNI) in USD', 'Gross Domestic Product (GDP)'],\n",
      "      dtype='object')\n",
      "Filtered CSV saved as econDataFilteredCountries.csv\n"
     ]
    }
   ],
   "source": [
    "import pandas as pd\n",
    "\n",
    "\n",
    "# 1. Read in the econ data\n",
    "\n",
    "df = pd.read_csv(r\"c:\\Users\\kjbsh\\Documents\\archive1\\Global Economy Indicators.csv\")\n",
    "\n",
    "# Strip whitespace from column names\n",
    "df.columns = df.columns.str.strip()\n",
    "# Strip whitespace from Country names\n",
    "df[\"Country\"] = df[\"Country\"].str.strip()\n",
    "# Print column names to verify\n",
    "print(df.columns)\n",
    "\n",
    "# 2. Define the list of valid countries \n",
    "valid_countries = [\n",
    "    \"Germany\",                  # ^de\n",
    "    \"China, Hong Kong SAR\",     # ^hk\n",
    "    \"Hungary\",                  # ^hu\n",
    "    \"Japan\",                    # ^jp\n",
    "    \"Poland\",                   # ^pl, ^pl20, ^plnc, ^plws\n",
    "    \"United Kingdom\",           # ^uk\n",
    "    \"United States\"             # ^us, ^usnm, ^usnq, ^usns\n",
    "]\n",
    "\n",
    "# 3. Filter the DataFrame so only rows with these countries remain\n",
    "df_filtered = df[df[\"Country\"].isin(valid_countries)]\n",
    "\n",
    "# 4. Write filtered data to a new CSV\n",
    "df_filtered.to_csv(r\"c:\\Users\\kjbsh\\Documents\\econDataFilteredCountries.csv\", index=False)\n",
    "\n",
    "print(\"Filtered CSV saved as econDataFilteredCountries.csv\")\n",
    "\n"
   ]
  }
 ],
 "metadata": {
  "kernelspec": {
   "display_name": "Python 3",
   "language": "python",
   "name": "python3"
  },
  "language_info": {
   "codemirror_mode": {
    "name": "ipython",
    "version": 3
   },
   "file_extension": ".py",
   "mimetype": "text/x-python",
   "name": "python",
   "nbconvert_exporter": "python",
   "pygments_lexer": "ipython3",
   "version": "3.12.3"
  }
 },
 "nbformat": 4,
 "nbformat_minor": 2
}
